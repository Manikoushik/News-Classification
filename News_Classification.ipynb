{
  "nbformat": 4,
  "nbformat_minor": 0,
  "metadata": {
    "colab": {
      "name": "News_Classification.ipynb",
      "provenance": [],
      "collapsed_sections": []
    },
    "kernelspec": {
      "name": "python3",
      "display_name": "Python 3"
    },
    "language_info": {
      "name": "python"
    }
  },
  "cells": [
    {
      "cell_type": "code",
      "metadata": {
        "colab": {
          "base_uri": "https://localhost:8080/"
        },
        "id": "yW6KzbpSaQJh",
        "outputId": "4b4da5fb-fa80-4f57-ec32-976690fcc01f"
      },
      "source": [
        "pip install nltk"
      ],
      "execution_count": 8,
      "outputs": [
        {
          "output_type": "stream",
          "text": [
            "Requirement already satisfied: nltk in /usr/local/lib/python3.7/dist-packages (3.2.5)\n",
            "Requirement already satisfied: six in /usr/local/lib/python3.7/dist-packages (from nltk) (1.15.0)\n"
          ],
          "name": "stdout"
        }
      ]
    },
    {
      "cell_type": "code",
      "metadata": {
        "id": "euXwfsaEaU2D",
        "colab": {
          "base_uri": "https://localhost:8080/"
        },
        "outputId": "196fbe10-d0dc-486f-a0ad-735ee2479efa"
      },
      "source": [
        "import nltk\n",
        "nltk.download('punkt')"
      ],
      "execution_count": 21,
      "outputs": [
        {
          "output_type": "stream",
          "text": [
            "[nltk_data] Downloading package punkt to /root/nltk_data...\n",
            "[nltk_data]   Unzipping tokenizers/punkt.zip.\n"
          ],
          "name": "stdout"
        },
        {
          "output_type": "execute_result",
          "data": {
            "text/plain": [
              "True"
            ]
          },
          "metadata": {
            "tags": []
          },
          "execution_count": 21
        }
      ]
    },
    {
      "cell_type": "code",
      "metadata": {
        "colab": {
          "base_uri": "https://localhost:8080/"
        },
        "id": "b2pKLAzeb5Ky",
        "outputId": "b3278605-06a7-4e24-bed3-36236c885eef"
      },
      "source": [
        "pip install nltk"
      ],
      "execution_count": 10,
      "outputs": [
        {
          "output_type": "stream",
          "text": [
            "Requirement already satisfied: nltk in /usr/local/lib/python3.7/dist-packages (3.2.5)\n",
            "Requirement already satisfied: six in /usr/local/lib/python3.7/dist-packages (from nltk) (1.15.0)\n"
          ],
          "name": "stdout"
        }
      ]
    },
    {
      "cell_type": "code",
      "metadata": {
        "id": "HxkQtOwxmplh"
      },
      "source": [
        "import nltk"
      ],
      "execution_count": 11,
      "outputs": []
    },
    {
      "cell_type": "code",
      "metadata": {
        "id": "1LKF1w0wmyxh"
      },
      "source": [
        "import pandas as pd"
      ],
      "execution_count": 12,
      "outputs": []
    },
    {
      "cell_type": "code",
      "metadata": {
        "id": "9jeB_ftX0WV-"
      },
      "source": [
        "#Upload the csv files\n",
        "fake = pd.read_csv('Fake.csv')\n",
        "gen = pd.read_csv('True.csv')"
      ],
      "execution_count": 13,
      "outputs": []
    },
    {
      "cell_type": "code",
      "metadata": {
        "id": "Hsy6CRiSCT0k"
      },
      "source": [
        "fake['target']=0\n",
        "gen['target']=1"
      ],
      "execution_count": 14,
      "outputs": []
    },
    {
      "cell_type": "code",
      "metadata": {
        "colab": {
          "base_uri": "https://localhost:8080/",
          "height": 289
        },
        "id": "MZ3Ip4DH1Ne0",
        "outputId": "2a2f08cf-e607-4a60-adf8-a76d2113f7ed"
      },
      "source": [
        "#concate both the files and reset the index\n",
        "data = pd.concat([fake,gen],axis=0)\n",
        "data = data.reset_index(drop=True)\n",
        "data.head()"
      ],
      "execution_count": 15,
      "outputs": [
        {
          "output_type": "execute_result",
          "data": {
            "text/html": [
              "<div>\n",
              "<style scoped>\n",
              "    .dataframe tbody tr th:only-of-type {\n",
              "        vertical-align: middle;\n",
              "    }\n",
              "\n",
              "    .dataframe tbody tr th {\n",
              "        vertical-align: top;\n",
              "    }\n",
              "\n",
              "    .dataframe thead th {\n",
              "        text-align: right;\n",
              "    }\n",
              "</style>\n",
              "<table border=\"1\" class=\"dataframe\">\n",
              "  <thead>\n",
              "    <tr style=\"text-align: right;\">\n",
              "      <th></th>\n",
              "      <th>title</th>\n",
              "      <th>text</th>\n",
              "      <th>subject</th>\n",
              "      <th>date</th>\n",
              "      <th>target</th>\n",
              "    </tr>\n",
              "  </thead>\n",
              "  <tbody>\n",
              "    <tr>\n",
              "      <th>0</th>\n",
              "      <td>Donald Trump Sends Out Embarrassing New Year’...</td>\n",
              "      <td>Donald Trump just couldn t wish all Americans ...</td>\n",
              "      <td>News</td>\n",
              "      <td>December 31, 2017</td>\n",
              "      <td>0</td>\n",
              "    </tr>\n",
              "    <tr>\n",
              "      <th>1</th>\n",
              "      <td>Drunk Bragging Trump Staffer Started Russian ...</td>\n",
              "      <td>House Intelligence Committee Chairman Devin Nu...</td>\n",
              "      <td>News</td>\n",
              "      <td>December 31, 2017</td>\n",
              "      <td>0</td>\n",
              "    </tr>\n",
              "    <tr>\n",
              "      <th>2</th>\n",
              "      <td>Sheriff David Clarke Becomes An Internet Joke...</td>\n",
              "      <td>On Friday, it was revealed that former Milwauk...</td>\n",
              "      <td>News</td>\n",
              "      <td>December 30, 2017</td>\n",
              "      <td>0</td>\n",
              "    </tr>\n",
              "    <tr>\n",
              "      <th>3</th>\n",
              "      <td>Trump Is So Obsessed He Even Has Obama’s Name...</td>\n",
              "      <td>On Christmas day, Donald Trump announced that ...</td>\n",
              "      <td>News</td>\n",
              "      <td>December 29, 2017</td>\n",
              "      <td>0</td>\n",
              "    </tr>\n",
              "    <tr>\n",
              "      <th>4</th>\n",
              "      <td>Pope Francis Just Called Out Donald Trump Dur...</td>\n",
              "      <td>Pope Francis used his annual Christmas Day mes...</td>\n",
              "      <td>News</td>\n",
              "      <td>December 25, 2017</td>\n",
              "      <td>0</td>\n",
              "    </tr>\n",
              "  </tbody>\n",
              "</table>\n",
              "</div>"
            ],
            "text/plain": [
              "                                               title  ... target\n",
              "0   Donald Trump Sends Out Embarrassing New Year’...  ...      0\n",
              "1   Drunk Bragging Trump Staffer Started Russian ...  ...      0\n",
              "2   Sheriff David Clarke Becomes An Internet Joke...  ...      0\n",
              "3   Trump Is So Obsessed He Even Has Obama’s Name...  ...      0\n",
              "4   Pope Francis Just Called Out Donald Trump Dur...  ...      0\n",
              "\n",
              "[5 rows x 5 columns]"
            ]
          },
          "metadata": {
            "tags": []
          },
          "execution_count": 15
        }
      ]
    },
    {
      "cell_type": "code",
      "metadata": {
        "id": "FAIU90b1A-ow"
      },
      "source": [
        "data = data.drop(['subject','date','title'],axis=1)"
      ],
      "execution_count": 16,
      "outputs": []
    },
    {
      "cell_type": "code",
      "metadata": {
        "colab": {
          "base_uri": "https://localhost:8080/"
        },
        "id": "PNpR-BODGj28",
        "outputId": "deec7ac2-61cd-4b98-d783-0c5d56b769c0"
      },
      "source": [
        "print(data.columns)"
      ],
      "execution_count": 17,
      "outputs": [
        {
          "output_type": "stream",
          "text": [
            "Index(['text', 'target'], dtype='object')\n"
          ],
          "name": "stdout"
        }
      ]
    },
    {
      "cell_type": "code",
      "metadata": {
        "id": "WRyj74G6G0Pe"
      },
      "source": [
        "#Tokenization\n",
        "from nltk.tokenize import word_tokenize\n",
        "data['text']=data['text'].apply(word_tokenize)"
      ],
      "execution_count": 22,
      "outputs": []
    },
    {
      "cell_type": "code",
      "metadata": {
        "colab": {
          "base_uri": "https://localhost:8080/"
        },
        "id": "7XJG8HdaHHZB",
        "outputId": "3c3ac2ea-a1c5-4d81-9a02-5de65dec539c"
      },
      "source": [
        "print(data.head())"
      ],
      "execution_count": 23,
      "outputs": [
        {
          "output_type": "stream",
          "text": [
            "                                                text  target\n",
            "0  [Donald, Trump, just, couldn, t, wish, all, Am...       0\n",
            "1  [House, Intelligence, Committee, Chairman, Dev...       0\n",
            "2  [On, Friday, ,, it, was, revealed, that, forme...       0\n",
            "3  [On, Christmas, day, ,, Donald, Trump, announc...       0\n",
            "4  [Pope, Francis, used, his, annual, Christmas, ...       0\n"
          ],
          "name": "stdout"
        }
      ]
    },
    {
      "cell_type": "code",
      "metadata": {
        "id": "W1qst08RHrZf"
      },
      "source": [
        "#Stemmming\n",
        "from nltk.stem.snowball import SnowballStemmer"
      ],
      "execution_count": 24,
      "outputs": []
    },
    {
      "cell_type": "code",
      "metadata": {
        "id": "V4N02FrkIHdn"
      },
      "source": [
        "porter =SnowballStemmer('english')"
      ],
      "execution_count": 25,
      "outputs": []
    },
    {
      "cell_type": "code",
      "metadata": {
        "id": "3xHVZBdVIZ9h"
      },
      "source": [
        "def stemit(text):\n",
        "  return[porter.stem(word) for word in text]"
      ],
      "execution_count": 26,
      "outputs": []
    },
    {
      "cell_type": "code",
      "metadata": {
        "colab": {
          "base_uri": "https://localhost:8080/"
        },
        "id": "sdjo0_8BIj9G",
        "outputId": "38138c8b-df8d-4208-d27e-7575e009bd37"
      },
      "source": [
        "data['text']=data['text'].apply(stemit)\n",
        "print(data.head())"
      ],
      "execution_count": 27,
      "outputs": [
        {
          "output_type": "stream",
          "text": [
            "                                                text  target\n",
            "0  [donald, trump, just, couldn, t, wish, all, am...       0\n",
            "1  [hous, intellig, committe, chairman, devin, nu...       0\n",
            "2  [on, friday, ,, it, was, reveal, that, former,...       0\n",
            "3  [on, christma, day, ,, donald, trump, announc,...       0\n",
            "4  [pope, franci, use, his, annual, christma, day...       0\n"
          ],
          "name": "stdout"
        }
      ]
    },
    {
      "cell_type": "code",
      "metadata": {
        "id": "V3FrpUthIttb"
      },
      "source": [
        "#Stopword Removal\n",
        "def stopit(t):\n",
        "  dt=[word for word in t if len(word)>2]\n",
        "  return dt"
      ],
      "execution_count": 28,
      "outputs": []
    },
    {
      "cell_type": "code",
      "metadata": {
        "id": "LL-9VZjYJKJL"
      },
      "source": [
        "data['text']=data['text'].apply(stopit)"
      ],
      "execution_count": 29,
      "outputs": []
    },
    {
      "cell_type": "code",
      "metadata": {
        "colab": {
          "base_uri": "https://localhost:8080/"
        },
        "id": "sDvLdzKKJP-a",
        "outputId": "43372a48-e249-4adc-ddbe-54a19316a54b"
      },
      "source": [
        "print(data.head())"
      ],
      "execution_count": 30,
      "outputs": [
        {
          "output_type": "stream",
          "text": [
            "                                                text  target\n",
            "0  [donald, trump, just, couldn, wish, all, ameri...       0\n",
            "1  [hous, intellig, committe, chairman, devin, nu...       0\n",
            "2  [friday, was, reveal, that, former, milwauke, ...       0\n",
            "3  [christma, day, donald, trump, announc, that, ...       0\n",
            "4  [pope, franci, use, his, annual, christma, day...       0\n"
          ],
          "name": "stdout"
        }
      ]
    },
    {
      "cell_type": "code",
      "metadata": {
        "id": "6c1iA-C_JTMi"
      },
      "source": [
        "data['text']=data['text'].apply(' '.join)"
      ],
      "execution_count": 31,
      "outputs": []
    },
    {
      "cell_type": "code",
      "metadata": {
        "colab": {
          "base_uri": "https://localhost:8080/",
          "height": 204
        },
        "id": "LxaBxZNkJg8e",
        "outputId": "7f60f7cc-84f7-4ca0-8a7f-9ff195e528da"
      },
      "source": [
        "data.head()"
      ],
      "execution_count": 32,
      "outputs": [
        {
          "output_type": "execute_result",
          "data": {
            "text/html": [
              "<div>\n",
              "<style scoped>\n",
              "    .dataframe tbody tr th:only-of-type {\n",
              "        vertical-align: middle;\n",
              "    }\n",
              "\n",
              "    .dataframe tbody tr th {\n",
              "        vertical-align: top;\n",
              "    }\n",
              "\n",
              "    .dataframe thead th {\n",
              "        text-align: right;\n",
              "    }\n",
              "</style>\n",
              "<table border=\"1\" class=\"dataframe\">\n",
              "  <thead>\n",
              "    <tr style=\"text-align: right;\">\n",
              "      <th></th>\n",
              "      <th>text</th>\n",
              "      <th>target</th>\n",
              "    </tr>\n",
              "  </thead>\n",
              "  <tbody>\n",
              "    <tr>\n",
              "      <th>0</th>\n",
              "      <td>donald trump just couldn wish all american hap...</td>\n",
              "      <td>0</td>\n",
              "    </tr>\n",
              "    <tr>\n",
              "      <th>1</th>\n",
              "      <td>hous intellig committe chairman devin nune hav...</td>\n",
              "      <td>0</td>\n",
              "    </tr>\n",
              "    <tr>\n",
              "      <th>2</th>\n",
              "      <td>friday was reveal that former milwauke sheriff...</td>\n",
              "      <td>0</td>\n",
              "    </tr>\n",
              "    <tr>\n",
              "      <th>3</th>\n",
              "      <td>christma day donald trump announc that would b...</td>\n",
              "      <td>0</td>\n",
              "    </tr>\n",
              "    <tr>\n",
              "      <th>4</th>\n",
              "      <td>pope franci use his annual christma day messag...</td>\n",
              "      <td>0</td>\n",
              "    </tr>\n",
              "  </tbody>\n",
              "</table>\n",
              "</div>"
            ],
            "text/plain": [
              "                                                text  target\n",
              "0  donald trump just couldn wish all american hap...       0\n",
              "1  hous intellig committe chairman devin nune hav...       0\n",
              "2  friday was reveal that former milwauke sheriff...       0\n",
              "3  christma day donald trump announc that would b...       0\n",
              "4  pope franci use his annual christma day messag...       0"
            ]
          },
          "metadata": {
            "tags": []
          },
          "execution_count": 32
        }
      ]
    },
    {
      "cell_type": "code",
      "metadata": {
        "colab": {
          "base_uri": "https://localhost:8080/",
          "height": 255
        },
        "id": "MlPxtmsSJlJX",
        "outputId": "0dfd8f41-f623-4f57-f4df-481b90084c07"
      },
      "source": [
        "#Splitting\n",
        "from sklearn.model_selection import train_test_split\n",
        "X_train,X_test,y_train,y_test=train_test_split(data['text'],data['target'])\n",
        "display(X_train.head())\n",
        "print('\\n')\n",
        "display(y_train.head())"
      ],
      "execution_count": 33,
      "outputs": [
        {
          "output_type": "display_data",
          "data": {
            "text/plain": [
              "42361    kabul reuter nato countri have strong reason m...\n",
              "37803    tokyo reuter japanes prime minist shinzo abe t...\n",
              "13819    girl aren the onli gender who will suffer emba...\n",
              "18953    former senat jim demint speak the wsj about th...\n",
              "30181    new york/washington reuter president-elect don...\n",
              "Name: text, dtype: object"
            ]
          },
          "metadata": {
            "tags": []
          }
        },
        {
          "output_type": "stream",
          "text": [
            "\n",
            "\n"
          ],
          "name": "stdout"
        },
        {
          "output_type": "display_data",
          "data": {
            "text/plain": [
              "42361    1\n",
              "37803    1\n",
              "13819    0\n",
              "18953    0\n",
              "30181    1\n",
              "Name: target, dtype: int64"
            ]
          },
          "metadata": {
            "tags": []
          }
        }
      ]
    },
    {
      "cell_type": "code",
      "metadata": {
        "id": "8V5BrIhMKlRn"
      },
      "source": [
        "#Vetorisation\n",
        "from sklearn.feature_extraction.text import TfidfVectorizer\n",
        "my_tfidf = TfidfVectorizer(max_df = 0.7)\n",
        "tfidf_train = my_tfidf.fit_transform(X_train)\n",
        "tfidf_test = my_tfidf.fit_transform(X_test) "
      ],
      "execution_count": 34,
      "outputs": []
    },
    {
      "cell_type": "code",
      "metadata": {
        "colab": {
          "base_uri": "https://localhost:8080/"
        },
        "id": "7LncN24DL6Aa",
        "outputId": "1df9e286-6b13-4030-d1db-a1cdf9b55ef2"
      },
      "source": [
        "print(tfidf_test)"
      ],
      "execution_count": 38,
      "outputs": [
        {
          "output_type": "stream",
          "text": [
            "  (0, 20659)\t0.04759573973957933\n",
            "  (0, 38169)\t0.07313759593966443\n",
            "  (0, 20740)\t0.09932428183470883\n",
            "  (0, 54018)\t0.10784368922654483\n",
            "  (0, 51478)\t0.03275622372617735\n",
            "  (0, 24378)\t0.06933220131164083\n",
            "  (0, 18591)\t0.03649166401629601\n",
            "  (0, 48384)\t0.039532702653895066\n",
            "  (0, 9353)\t0.07102074187567171\n",
            "  (0, 50533)\t0.058874538399581906\n",
            "  (0, 45316)\t0.08312555361639651\n",
            "  (0, 43438)\t0.04505762261797623\n",
            "  (0, 10973)\t0.0717175993554705\n",
            "  (0, 392)\t0.09257789674459205\n",
            "  (0, 36184)\t0.026951574577364423\n",
            "  (0, 5592)\t0.04927444061236931\n",
            "  (0, 40210)\t0.09042000037903443\n",
            "  (0, 53105)\t0.04525722376306563\n",
            "  (0, 50395)\t0.06465120762825866\n",
            "  (0, 25572)\t0.035798124576323184\n",
            "  (0, 48817)\t0.041089303621827666\n",
            "  (0, 6045)\t0.058501481815388404\n",
            "  (0, 36738)\t0.052898040373081746\n",
            "  (0, 28927)\t0.08080424971689056\n",
            "  (0, 51364)\t0.11148937793524892\n",
            "  :\t:\n",
            "  (11224, 5481)\t0.03288769621775411\n",
            "  (11224, 15109)\t0.03952706660047508\n",
            "  (11224, 36073)\t0.015387841949477878\n",
            "  (11224, 42851)\t0.030758615096957178\n",
            "  (11224, 52625)\t0.04740232302895315\n",
            "  (11224, 36026)\t0.049196305709062284\n",
            "  (11224, 48058)\t0.0349228604968575\n",
            "  (11224, 19018)\t0.019241706114411998\n",
            "  (11224, 48512)\t0.016971921563375698\n",
            "  (11224, 18201)\t0.025469133044648547\n",
            "  (11224, 9723)\t0.05085982625639298\n",
            "  (11224, 36060)\t0.037098734407845335\n",
            "  (11224, 43441)\t0.05463929132434248\n",
            "  (11224, 34152)\t0.050882200593582935\n",
            "  (11224, 52117)\t0.02590115558388938\n",
            "  (11224, 10107)\t0.03328952855825996\n",
            "  (11224, 45143)\t0.03210263972760137\n",
            "  (11224, 10574)\t0.02868118348724943\n",
            "  (11224, 40269)\t0.07772120221918391\n",
            "  (11224, 22470)\t0.058799689512567144\n",
            "  (11224, 34166)\t0.01707550266624107\n",
            "  (11224, 50275)\t0.06384049785838197\n",
            "  (11224, 25209)\t0.03920064962901161\n",
            "  (11224, 7561)\t0.029028081200532997\n",
            "  (11224, 22570)\t0.08178455742940048\n"
          ],
          "name": "stdout"
        }
      ]
    },
    {
      "cell_type": "code",
      "metadata": {
        "id": "UA9m8GB_Mgnc"
      },
      "source": [
        "#Logistic Regression\n",
        "from sklearn.linear_model import LogisticRegression\n",
        "from sklearn.metrics import accuracy_score"
      ],
      "execution_count": 39,
      "outputs": []
    },
    {
      "cell_type": "code",
      "metadata": {
        "id": "vdkhNHhgM2on"
      },
      "source": [
        "model_1 = LogisticRegression(max_iter=900)\n",
        "model_1.fit(tfidf_train,y_train)\n",
        "pred_1 = model_1.predict(tfidf_test)\n",
        "cr1=accuracy_score(y_test,pred_1)\n",
        "print(cr1*100)"
      ],
      "execution_count": null,
      "outputs": []
    },
    {
      "cell_type": "code",
      "metadata": {
        "colab": {
          "base_uri": "https://localhost:8080/"
        },
        "id": "QcvTf6XgNwGf",
        "outputId": "a6945ddc-1138-4fa6-d721-bab1c1c45866"
      },
      "source": [
        "#Passive-Aggresive Classifier\n",
        "from sklearn.linear_model import PassiveAggressiveClassifier\n",
        "model = PassiveAggressiveClassifier(max_iter=50)\n",
        "model.fit(tfidf_train,y_train)\n"
      ],
      "execution_count": 41,
      "outputs": [
        {
          "output_type": "execute_result",
          "data": {
            "text/plain": [
              "PassiveAggressiveClassifier(C=1.0, average=False, class_weight=None,\n",
              "                            early_stopping=False, fit_intercept=True,\n",
              "                            loss='hinge', max_iter=50, n_iter_no_change=5,\n",
              "                            n_jobs=None, random_state=None, shuffle=True,\n",
              "                            tol=0.001, validation_fraction=0.1, verbose=0,\n",
              "                            warm_start=False)"
            ]
          },
          "metadata": {
            "tags": []
          },
          "execution_count": 41
        }
      ]
    },
    {
      "cell_type": "code",
      "metadata": {
        "id": "XKamP5YgPlME"
      },
      "source": [
        "y_pred = model.predict(tfidf_test)\n",
        "accscore = accuracy_score(y_test,y_pred)\n",
        "print(\"The accuracy of the Prediction is \",accscore*100)"
      ],
      "execution_count": null,
      "outputs": []
    }
  ]
}